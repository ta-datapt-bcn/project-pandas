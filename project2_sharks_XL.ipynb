{
 "cells": [
  {
   "cell_type": "markdown",
   "metadata": {},
   "source": [
    "# Project 2 - Sharks attack"
   ]
  },
  {
   "cell_type": "markdown",
   "metadata": {},
   "source": [
    "Project by Xabi López - DAPT Feb 2021 - 2021/03/20"
   ]
  },
  {
   "cell_type": "markdown",
   "metadata": {},
   "source": [
    "## Objectives"
   ]
  },
  {
   "cell_type": "markdown",
   "metadata": {},
   "source": [
    "* Countries with the most attacks\n",
    "* Year on year evolution of the attacks\n",
    "* Most dangerous sharks\n",
    "* Most dangerous activities\n",
    "* Attacks in Spain "
   ]
  },
  {
   "cell_type": "markdown",
   "metadata": {},
   "source": [
    "## Preparation tasks"
   ]
  },
  {
   "cell_type": "markdown",
   "metadata": {},
   "source": [
    "### Import libraries"
   ]
  },
  {
   "cell_type": "code",
   "execution_count": 1,
   "metadata": {},
   "outputs": [],
   "source": [
    "import pandas as pd\n",
    "import datetime as dt\n",
    "import numpy as np\n",
    "import re\n",
    "import matplotlib.pyplot as plt"
   ]
  },
  {
   "cell_type": "markdown",
   "metadata": {},
   "source": [
    "### Import document as a data frame"
   ]
  },
  {
   "cell_type": "code",
   "execution_count": 2,
   "metadata": {},
   "outputs": [
    {
     "data": {
      "text/html": [
       "<div>\n",
       "<style scoped>\n",
       "    .dataframe tbody tr th:only-of-type {\n",
       "        vertical-align: middle;\n",
       "    }\n",
       "\n",
       "    .dataframe tbody tr th {\n",
       "        vertical-align: top;\n",
       "    }\n",
       "\n",
       "    .dataframe thead th {\n",
       "        text-align: right;\n",
       "    }\n",
       "</style>\n",
       "<table border=\"1\" class=\"dataframe\">\n",
       "  <thead>\n",
       "    <tr style=\"text-align: right;\">\n",
       "      <th></th>\n",
       "      <th>Case Number</th>\n",
       "      <th>Date</th>\n",
       "      <th>Year</th>\n",
       "      <th>Type</th>\n",
       "      <th>Country</th>\n",
       "      <th>Area</th>\n",
       "      <th>Location</th>\n",
       "      <th>Activity</th>\n",
       "      <th>Name</th>\n",
       "      <th>Sex</th>\n",
       "      <th>...</th>\n",
       "      <th>Species</th>\n",
       "      <th>Investigator or Source</th>\n",
       "      <th>pdf</th>\n",
       "      <th>href formula</th>\n",
       "      <th>href</th>\n",
       "      <th>Case Number.1</th>\n",
       "      <th>Case Number.2</th>\n",
       "      <th>original order</th>\n",
       "      <th>Unnamed: 22</th>\n",
       "      <th>Unnamed: 23</th>\n",
       "    </tr>\n",
       "  </thead>\n",
       "  <tbody>\n",
       "    <tr>\n",
       "      <th>0</th>\n",
       "      <td>2018.06.25</td>\n",
       "      <td>25-Jun-2018</td>\n",
       "      <td>2018.0</td>\n",
       "      <td>Boating</td>\n",
       "      <td>USA</td>\n",
       "      <td>California</td>\n",
       "      <td>Oceanside, San Diego County</td>\n",
       "      <td>Paddling</td>\n",
       "      <td>Julie Wolfe</td>\n",
       "      <td>F</td>\n",
       "      <td>...</td>\n",
       "      <td>White shark</td>\n",
       "      <td>R. Collier, GSAF</td>\n",
       "      <td>2018.06.25-Wolfe.pdf</td>\n",
       "      <td>http://sharkattackfile.net/spreadsheets/pdf_di...</td>\n",
       "      <td>http://sharkattackfile.net/spreadsheets/pdf_di...</td>\n",
       "      <td>2018.06.25</td>\n",
       "      <td>2018.06.25</td>\n",
       "      <td>6303.0</td>\n",
       "      <td>NaN</td>\n",
       "      <td>NaN</td>\n",
       "    </tr>\n",
       "    <tr>\n",
       "      <th>1</th>\n",
       "      <td>2018.06.18</td>\n",
       "      <td>18-Jun-2018</td>\n",
       "      <td>2018.0</td>\n",
       "      <td>Unprovoked</td>\n",
       "      <td>USA</td>\n",
       "      <td>Georgia</td>\n",
       "      <td>St. Simon Island, Glynn County</td>\n",
       "      <td>Standing</td>\n",
       "      <td>Adyson McNeely</td>\n",
       "      <td>F</td>\n",
       "      <td>...</td>\n",
       "      <td>NaN</td>\n",
       "      <td>K.McMurray, TrackingSharks.com</td>\n",
       "      <td>2018.06.18-McNeely.pdf</td>\n",
       "      <td>http://sharkattackfile.net/spreadsheets/pdf_di...</td>\n",
       "      <td>http://sharkattackfile.net/spreadsheets/pdf_di...</td>\n",
       "      <td>2018.06.18</td>\n",
       "      <td>2018.06.18</td>\n",
       "      <td>6302.0</td>\n",
       "      <td>NaN</td>\n",
       "      <td>NaN</td>\n",
       "    </tr>\n",
       "    <tr>\n",
       "      <th>2</th>\n",
       "      <td>2018.06.09</td>\n",
       "      <td>09-Jun-2018</td>\n",
       "      <td>2018.0</td>\n",
       "      <td>Invalid</td>\n",
       "      <td>USA</td>\n",
       "      <td>Hawaii</td>\n",
       "      <td>Habush, Oahu</td>\n",
       "      <td>Surfing</td>\n",
       "      <td>John Denges</td>\n",
       "      <td>M</td>\n",
       "      <td>...</td>\n",
       "      <td>NaN</td>\n",
       "      <td>K.McMurray, TrackingSharks.com</td>\n",
       "      <td>2018.06.09-Denges.pdf</td>\n",
       "      <td>http://sharkattackfile.net/spreadsheets/pdf_di...</td>\n",
       "      <td>http://sharkattackfile.net/spreadsheets/pdf_di...</td>\n",
       "      <td>2018.06.09</td>\n",
       "      <td>2018.06.09</td>\n",
       "      <td>6301.0</td>\n",
       "      <td>NaN</td>\n",
       "      <td>NaN</td>\n",
       "    </tr>\n",
       "    <tr>\n",
       "      <th>3</th>\n",
       "      <td>2018.06.08</td>\n",
       "      <td>08-Jun-2018</td>\n",
       "      <td>2018.0</td>\n",
       "      <td>Unprovoked</td>\n",
       "      <td>AUSTRALIA</td>\n",
       "      <td>New South Wales</td>\n",
       "      <td>Arrawarra Headland</td>\n",
       "      <td>Surfing</td>\n",
       "      <td>male</td>\n",
       "      <td>M</td>\n",
       "      <td>...</td>\n",
       "      <td>2 m shark</td>\n",
       "      <td>B. Myatt, GSAF</td>\n",
       "      <td>2018.06.08-Arrawarra.pdf</td>\n",
       "      <td>http://sharkattackfile.net/spreadsheets/pdf_di...</td>\n",
       "      <td>http://sharkattackfile.net/spreadsheets/pdf_di...</td>\n",
       "      <td>2018.06.08</td>\n",
       "      <td>2018.06.08</td>\n",
       "      <td>6300.0</td>\n",
       "      <td>NaN</td>\n",
       "      <td>NaN</td>\n",
       "    </tr>\n",
       "    <tr>\n",
       "      <th>4</th>\n",
       "      <td>2018.06.04</td>\n",
       "      <td>04-Jun-2018</td>\n",
       "      <td>2018.0</td>\n",
       "      <td>Provoked</td>\n",
       "      <td>MEXICO</td>\n",
       "      <td>Colima</td>\n",
       "      <td>La Ticla</td>\n",
       "      <td>Free diving</td>\n",
       "      <td>Gustavo Ramos</td>\n",
       "      <td>M</td>\n",
       "      <td>...</td>\n",
       "      <td>Tiger shark, 3m</td>\n",
       "      <td>A .Kipper</td>\n",
       "      <td>2018.06.04-Ramos.pdf</td>\n",
       "      <td>http://sharkattackfile.net/spreadsheets/pdf_di...</td>\n",
       "      <td>http://sharkattackfile.net/spreadsheets/pdf_di...</td>\n",
       "      <td>2018.06.04</td>\n",
       "      <td>2018.06.04</td>\n",
       "      <td>6299.0</td>\n",
       "      <td>NaN</td>\n",
       "      <td>NaN</td>\n",
       "    </tr>\n",
       "    <tr>\n",
       "      <th>...</th>\n",
       "      <td>...</td>\n",
       "      <td>...</td>\n",
       "      <td>...</td>\n",
       "      <td>...</td>\n",
       "      <td>...</td>\n",
       "      <td>...</td>\n",
       "      <td>...</td>\n",
       "      <td>...</td>\n",
       "      <td>...</td>\n",
       "      <td>...</td>\n",
       "      <td>...</td>\n",
       "      <td>...</td>\n",
       "      <td>...</td>\n",
       "      <td>...</td>\n",
       "      <td>...</td>\n",
       "      <td>...</td>\n",
       "      <td>...</td>\n",
       "      <td>...</td>\n",
       "      <td>...</td>\n",
       "      <td>...</td>\n",
       "      <td>...</td>\n",
       "    </tr>\n",
       "    <tr>\n",
       "      <th>25718</th>\n",
       "      <td>NaN</td>\n",
       "      <td>NaN</td>\n",
       "      <td>NaN</td>\n",
       "      <td>NaN</td>\n",
       "      <td>NaN</td>\n",
       "      <td>NaN</td>\n",
       "      <td>NaN</td>\n",
       "      <td>NaN</td>\n",
       "      <td>NaN</td>\n",
       "      <td>NaN</td>\n",
       "      <td>...</td>\n",
       "      <td>NaN</td>\n",
       "      <td>NaN</td>\n",
       "      <td>NaN</td>\n",
       "      <td>NaN</td>\n",
       "      <td>NaN</td>\n",
       "      <td>NaN</td>\n",
       "      <td>NaN</td>\n",
       "      <td>NaN</td>\n",
       "      <td>NaN</td>\n",
       "      <td>NaN</td>\n",
       "    </tr>\n",
       "    <tr>\n",
       "      <th>25719</th>\n",
       "      <td>NaN</td>\n",
       "      <td>NaN</td>\n",
       "      <td>NaN</td>\n",
       "      <td>NaN</td>\n",
       "      <td>NaN</td>\n",
       "      <td>NaN</td>\n",
       "      <td>NaN</td>\n",
       "      <td>NaN</td>\n",
       "      <td>NaN</td>\n",
       "      <td>NaN</td>\n",
       "      <td>...</td>\n",
       "      <td>NaN</td>\n",
       "      <td>NaN</td>\n",
       "      <td>NaN</td>\n",
       "      <td>NaN</td>\n",
       "      <td>NaN</td>\n",
       "      <td>NaN</td>\n",
       "      <td>NaN</td>\n",
       "      <td>NaN</td>\n",
       "      <td>NaN</td>\n",
       "      <td>NaN</td>\n",
       "    </tr>\n",
       "    <tr>\n",
       "      <th>25720</th>\n",
       "      <td>NaN</td>\n",
       "      <td>NaN</td>\n",
       "      <td>NaN</td>\n",
       "      <td>NaN</td>\n",
       "      <td>NaN</td>\n",
       "      <td>NaN</td>\n",
       "      <td>NaN</td>\n",
       "      <td>NaN</td>\n",
       "      <td>NaN</td>\n",
       "      <td>NaN</td>\n",
       "      <td>...</td>\n",
       "      <td>NaN</td>\n",
       "      <td>NaN</td>\n",
       "      <td>NaN</td>\n",
       "      <td>NaN</td>\n",
       "      <td>NaN</td>\n",
       "      <td>NaN</td>\n",
       "      <td>NaN</td>\n",
       "      <td>NaN</td>\n",
       "      <td>NaN</td>\n",
       "      <td>NaN</td>\n",
       "    </tr>\n",
       "    <tr>\n",
       "      <th>25721</th>\n",
       "      <td>NaN</td>\n",
       "      <td>NaN</td>\n",
       "      <td>NaN</td>\n",
       "      <td>NaN</td>\n",
       "      <td>NaN</td>\n",
       "      <td>NaN</td>\n",
       "      <td>NaN</td>\n",
       "      <td>NaN</td>\n",
       "      <td>NaN</td>\n",
       "      <td>NaN</td>\n",
       "      <td>...</td>\n",
       "      <td>NaN</td>\n",
       "      <td>NaN</td>\n",
       "      <td>NaN</td>\n",
       "      <td>NaN</td>\n",
       "      <td>NaN</td>\n",
       "      <td>NaN</td>\n",
       "      <td>NaN</td>\n",
       "      <td>NaN</td>\n",
       "      <td>NaN</td>\n",
       "      <td>NaN</td>\n",
       "    </tr>\n",
       "    <tr>\n",
       "      <th>25722</th>\n",
       "      <td>xx</td>\n",
       "      <td>NaN</td>\n",
       "      <td>NaN</td>\n",
       "      <td>NaN</td>\n",
       "      <td>NaN</td>\n",
       "      <td>NaN</td>\n",
       "      <td>NaN</td>\n",
       "      <td>NaN</td>\n",
       "      <td>NaN</td>\n",
       "      <td>NaN</td>\n",
       "      <td>...</td>\n",
       "      <td>NaN</td>\n",
       "      <td>NaN</td>\n",
       "      <td>NaN</td>\n",
       "      <td>NaN</td>\n",
       "      <td>NaN</td>\n",
       "      <td>NaN</td>\n",
       "      <td>NaN</td>\n",
       "      <td>NaN</td>\n",
       "      <td>NaN</td>\n",
       "      <td>NaN</td>\n",
       "    </tr>\n",
       "  </tbody>\n",
       "</table>\n",
       "<p>25723 rows × 24 columns</p>\n",
       "</div>"
      ],
      "text/plain": [
       "      Case Number         Date    Year        Type    Country  \\\n",
       "0      2018.06.25  25-Jun-2018  2018.0     Boating        USA   \n",
       "1      2018.06.18  18-Jun-2018  2018.0  Unprovoked        USA   \n",
       "2      2018.06.09  09-Jun-2018  2018.0     Invalid        USA   \n",
       "3      2018.06.08  08-Jun-2018  2018.0  Unprovoked  AUSTRALIA   \n",
       "4      2018.06.04  04-Jun-2018  2018.0    Provoked     MEXICO   \n",
       "...           ...          ...     ...         ...        ...   \n",
       "25718         NaN          NaN     NaN         NaN        NaN   \n",
       "25719         NaN          NaN     NaN         NaN        NaN   \n",
       "25720         NaN          NaN     NaN         NaN        NaN   \n",
       "25721         NaN          NaN     NaN         NaN        NaN   \n",
       "25722          xx          NaN     NaN         NaN        NaN   \n",
       "\n",
       "                  Area                        Location     Activity  \\\n",
       "0           California     Oceanside, San Diego County     Paddling   \n",
       "1              Georgia  St. Simon Island, Glynn County     Standing   \n",
       "2               Hawaii                    Habush, Oahu      Surfing   \n",
       "3      New South Wales              Arrawarra Headland      Surfing   \n",
       "4               Colima                        La Ticla  Free diving   \n",
       "...                ...                             ...          ...   \n",
       "25718              NaN                             NaN          NaN   \n",
       "25719              NaN                             NaN          NaN   \n",
       "25720              NaN                             NaN          NaN   \n",
       "25721              NaN                             NaN          NaN   \n",
       "25722              NaN                             NaN          NaN   \n",
       "\n",
       "                  Name Sex   ...         Species   \\\n",
       "0          Julie Wolfe    F  ...      White shark   \n",
       "1      Adyson McNeely     F  ...              NaN   \n",
       "2          John Denges    M  ...              NaN   \n",
       "3                 male    M  ...        2 m shark   \n",
       "4       Gustavo Ramos     M  ...  Tiger shark, 3m   \n",
       "...                ...  ...  ...              ...   \n",
       "25718              NaN  NaN  ...              NaN   \n",
       "25719              NaN  NaN  ...              NaN   \n",
       "25720              NaN  NaN  ...              NaN   \n",
       "25721              NaN  NaN  ...              NaN   \n",
       "25722              NaN  NaN  ...              NaN   \n",
       "\n",
       "               Investigator or Source                       pdf  \\\n",
       "0                    R. Collier, GSAF      2018.06.25-Wolfe.pdf   \n",
       "1      K.McMurray, TrackingSharks.com    2018.06.18-McNeely.pdf   \n",
       "2      K.McMurray, TrackingSharks.com     2018.06.09-Denges.pdf   \n",
       "3                      B. Myatt, GSAF  2018.06.08-Arrawarra.pdf   \n",
       "4                           A .Kipper      2018.06.04-Ramos.pdf   \n",
       "...                               ...                       ...   \n",
       "25718                             NaN                       NaN   \n",
       "25719                             NaN                       NaN   \n",
       "25720                             NaN                       NaN   \n",
       "25721                             NaN                       NaN   \n",
       "25722                             NaN                       NaN   \n",
       "\n",
       "                                            href formula  \\\n",
       "0      http://sharkattackfile.net/spreadsheets/pdf_di...   \n",
       "1      http://sharkattackfile.net/spreadsheets/pdf_di...   \n",
       "2      http://sharkattackfile.net/spreadsheets/pdf_di...   \n",
       "3      http://sharkattackfile.net/spreadsheets/pdf_di...   \n",
       "4      http://sharkattackfile.net/spreadsheets/pdf_di...   \n",
       "...                                                  ...   \n",
       "25718                                                NaN   \n",
       "25719                                                NaN   \n",
       "25720                                                NaN   \n",
       "25721                                                NaN   \n",
       "25722                                                NaN   \n",
       "\n",
       "                                                    href Case Number.1  \\\n",
       "0      http://sharkattackfile.net/spreadsheets/pdf_di...    2018.06.25   \n",
       "1      http://sharkattackfile.net/spreadsheets/pdf_di...    2018.06.18   \n",
       "2      http://sharkattackfile.net/spreadsheets/pdf_di...    2018.06.09   \n",
       "3      http://sharkattackfile.net/spreadsheets/pdf_di...    2018.06.08   \n",
       "4      http://sharkattackfile.net/spreadsheets/pdf_di...    2018.06.04   \n",
       "...                                                  ...           ...   \n",
       "25718                                                NaN           NaN   \n",
       "25719                                                NaN           NaN   \n",
       "25720                                                NaN           NaN   \n",
       "25721                                                NaN           NaN   \n",
       "25722                                                NaN           NaN   \n",
       "\n",
       "      Case Number.2 original order Unnamed: 22 Unnamed: 23  \n",
       "0        2018.06.25         6303.0         NaN         NaN  \n",
       "1        2018.06.18         6302.0         NaN         NaN  \n",
       "2        2018.06.09         6301.0         NaN         NaN  \n",
       "3        2018.06.08         6300.0         NaN         NaN  \n",
       "4        2018.06.04         6299.0         NaN         NaN  \n",
       "...             ...            ...         ...         ...  \n",
       "25718           NaN            NaN         NaN         NaN  \n",
       "25719           NaN            NaN         NaN         NaN  \n",
       "25720           NaN            NaN         NaN         NaN  \n",
       "25721           NaN            NaN         NaN         NaN  \n",
       "25722           NaN            NaN         NaN         NaN  \n",
       "\n",
       "[25723 rows x 24 columns]"
      ]
     },
     "execution_count": 2,
     "metadata": {},
     "output_type": "execute_result"
    }
   ],
   "source": [
    "sharks = pd.read_csv('attacks.csv', encoding='latin-1')\n",
    "sharks"
   ]
  },
  {
   "cell_type": "markdown",
   "metadata": {},
   "source": [
    "### First clean up by removing NaN, duplicates and non-interesting information"
   ]
  },
  {
   "cell_type": "markdown",
   "metadata": {},
   "source": [
    "#### Droping columns that do not provide any valuable information"
   ]
  },
  {
   "cell_type": "code",
   "execution_count": 3,
   "metadata": {},
   "outputs": [],
   "source": [
    "df = sharks.drop(columns = ['Year', 'Name','Time','Injury','Date','pdf', 'href formula', 'href', 'Case Number.1', 'Case Number.2','original order','Unnamed: 22','Unnamed: 23'])"
   ]
  },
  {
   "cell_type": "markdown",
   "metadata": {},
   "source": [
    "#### Droping rows that are just NaN"
   ]
  },
  {
   "cell_type": "code",
   "execution_count": 4,
   "metadata": {},
   "outputs": [],
   "source": [
    "df.set_index('Case Number', inplace=True)\n",
    "df.dropna(how = 'all', inplace=True)\n",
    "df.reset_index(inplace=True)"
   ]
  },
  {
   "cell_type": "markdown",
   "metadata": {},
   "source": [
    "#### Droping duplicates"
   ]
  },
  {
   "cell_type": "code",
   "execution_count": 5,
   "metadata": {},
   "outputs": [],
   "source": [
    "df.drop_duplicates(inplace=True)"
   ]
  },
  {
   "cell_type": "markdown",
   "metadata": {},
   "source": [
    "### Cleaning dates"
   ]
  },
  {
   "cell_type": "markdown",
   "metadata": {},
   "source": [
    "#### Extracting dates from case number"
   ]
  },
  {
   "cell_type": "code",
   "execution_count": 6,
   "metadata": {},
   "outputs": [
    {
     "data": {
      "text/plain": [
       "              129\n",
       "1950.00.00     13\n",
       "1942.00.00     11\n",
       "1957.00.00     11\n",
       "1960.00.00     10\n",
       "             ... \n",
       "2015.01.16      1\n",
       "1892.04.21      1\n",
       "1871.08.29      1\n",
       "1932.08.09      1\n",
       "2014.10.20      1\n",
       "Name: Date, Length: 5201, dtype: int64"
      ]
     },
     "execution_count": 6,
     "metadata": {},
     "output_type": "execute_result"
    }
   ],
   "source": [
    "df[\"Date\"] = df[\"Case Number\"].str.findall(\"(\\d{4}\\.\\d{2}\\.\\d{2})\").str.join('')\n",
    "df[\"Date\"].value_counts()"
   ]
  },
  {
   "cell_type": "markdown",
   "metadata": {},
   "source": [
    "#### Creating and applying a function to clean the dates"
   ]
  },
  {
   "cell_type": "code",
   "execution_count": 7,
   "metadata": {},
   "outputs": [],
   "source": [
    "def date_review(date):\n",
    "    try:\n",
    "        x = date.split('.')   \n",
    "        if len(x[0])==4:\n",
    "            if x[0].isnumeric():\n",
    "                yyyy = x[0]\n",
    "                if x[1].isnumeric():\n",
    "                    if x[1]=='00':\n",
    "                        x[1]='01'\n",
    "                    else:\n",
    "                        pass\n",
    "                    if x[1] in ['01','03','05','07','08','10','12']:\n",
    "                        mm = x[1]\n",
    "                        if int(x[2]) > 31:\n",
    "                            dd = '31'\n",
    "                        elif x[2]=='00':\n",
    "                            dd = '01'\n",
    "                        else:\n",
    "                            dd = x[2]\n",
    "                    elif x[1] in ['04','06','09','11']:\n",
    "                        mm = x[1]\n",
    "                        if int(x[2]) > 30:\n",
    "                            dd = '30'\n",
    "                        elif x[2]=='00':\n",
    "                            dd = '01'\n",
    "                        else:\n",
    "                            dd = x[2]\n",
    "                    elif x[1]=='02':\n",
    "                        mm = x[1]\n",
    "                        if int(x[2]) > 28:\n",
    "                            dd = '28'\n",
    "                        elif x[2]=='00':\n",
    "                            dd = '01'\n",
    "                        else:\n",
    "                            dd = x[2]\n",
    "                    else:\n",
    "                        return \"no date\"\n",
    "                    new_date = [yyyy,mm,dd]\n",
    "                    return \"-\".join(new_date)\n",
    "                else:\n",
    "                    return \"no date\"\n",
    "            else:\n",
    "                return \"no date\"\n",
    "        else:\n",
    "            return \"no date\"\n",
    "    except:\n",
    "        return \"no date\""
   ]
  },
  {
   "cell_type": "code",
   "execution_count": 8,
   "metadata": {},
   "outputs": [
    {
     "data": {
      "text/plain": [
       "no date       130\n",
       "1950-01-01     13\n",
       "1942-01-01     12\n",
       "1957-01-01     11\n",
       "1960-01-01     11\n",
       "             ... \n",
       "2005-09-20      1\n",
       "2001-01-06      1\n",
       "2000-03-30      1\n",
       "2008-12-14      1\n",
       "2013-02-27      1\n",
       "Name: Date, Length: 5151, dtype: int64"
      ]
     },
     "execution_count": 8,
     "metadata": {},
     "output_type": "execute_result"
    }
   ],
   "source": [
    "df[\"Date\"] = df[\"Date\"].apply(date_review)\n",
    "df[\"Date\"].value_counts()"
   ]
  },
  {
   "cell_type": "markdown",
   "metadata": {},
   "source": [
    "#### Transforming it into datetime format"
   ]
  },
  {
   "cell_type": "code",
   "execution_count": 9,
   "metadata": {},
   "outputs": [
    {
     "data": {
      "text/plain": [
       "Case Number                       object\n",
       "Type                              object\n",
       "Country                           object\n",
       "Area                              object\n",
       "Location                          object\n",
       "Activity                          object\n",
       "Sex                               object\n",
       "Age                               object\n",
       "Fatal (Y/N)                       object\n",
       "Species                           object\n",
       "Investigator or Source            object\n",
       "Date                      datetime64[ns]\n",
       "dtype: object"
      ]
     },
     "execution_count": 9,
     "metadata": {},
     "output_type": "execute_result"
    }
   ],
   "source": [
    "df['Date'] = pd.to_datetime(df['Date'],errors='coerce')\n",
    "df.dtypes"
   ]
  },
  {
   "cell_type": "markdown",
   "metadata": {},
   "source": [
    "#### Keeping just dates from 1700 "
   ]
  },
  {
   "cell_type": "code",
   "execution_count": 10,
   "metadata": {},
   "outputs": [],
   "source": [
    "df['Year'] = df['Date'].dt.year\n",
    "df = df[df['Year']>1700]"
   ]
  },
  {
   "cell_type": "markdown",
   "metadata": {},
   "source": [
    "### Cleaning the rest of the columns"
   ]
  },
  {
   "cell_type": "markdown",
   "metadata": {},
   "source": [
    "#### Sex"
   ]
  },
  {
   "cell_type": "code",
   "execution_count": 11,
   "metadata": {},
   "outputs": [
    {
     "data": {
      "text/plain": [
       "M      4970\n",
       "F       624\n",
       "N         2\n",
       "M         2\n",
       ".         1\n",
       "lli       1\n",
       "Name: Sex , dtype: int64"
      ]
     },
     "execution_count": 11,
     "metadata": {},
     "output_type": "execute_result"
    }
   ],
   "source": [
    "df[\"Sex \"].value_counts()"
   ]
  },
  {
   "cell_type": "code",
   "execution_count": 12,
   "metadata": {},
   "outputs": [
    {
     "data": {
      "text/plain": [
       "M          4972\n",
       "F           624\n",
       "Unknown     559\n",
       "Name: Sex , dtype: int64"
      ]
     },
     "execution_count": 12,
     "metadata": {},
     "output_type": "execute_result"
    }
   ],
   "source": [
    "df['Sex ']=df['Sex '].fillna('Unknown').replace(\" \", \"\").replace(\".\", \"Unknown\").replace(\"lli\", \"Unknown\").replace(\"N\", \"Unknown\").replace(\"M \", \"M\")\n",
    "df[\"Sex \"].value_counts()"
   ]
  },
  {
   "cell_type": "markdown",
   "metadata": {},
   "source": [
    "#### Type"
   ]
  },
  {
   "cell_type": "code",
   "execution_count": 13,
   "metadata": {},
   "outputs": [
    {
     "data": {
      "text/plain": [
       "Unprovoked      4469\n",
       "Provoked         565\n",
       "Invalid          544\n",
       "Sea Disaster     233\n",
       "Boating          203\n",
       "Boat             134\n",
       "Unknown            6\n",
       "Boatomg            1\n",
       "Name: Type, dtype: int64"
      ]
     },
     "execution_count": 13,
     "metadata": {},
     "output_type": "execute_result"
    }
   ],
   "source": [
    "df[\"Type\"]=df[\"Type\"].fillna('Unknown').replace('Questionable','Unknown')\n",
    "df[\"Type\"].value_counts()"
   ]
  },
  {
   "cell_type": "code",
   "execution_count": 14,
   "metadata": {},
   "outputs": [
    {
     "data": {
      "text/plain": [
       "Unprovoked      4469\n",
       "Provoked         565\n",
       "Invalid          544\n",
       "Sea Disaster     233\n",
       "Boating          204\n",
       "Boat             134\n",
       "Unknown            6\n",
       "Name: Type, dtype: int64"
      ]
     },
     "execution_count": 14,
     "metadata": {},
     "output_type": "execute_result"
    }
   ],
   "source": [
    "df[\"Type\"] = df[\"Type\"].fillna('Unknown').replace('Boatomg','Boating')\n",
    "df[\"Type\"].value_counts()"
   ]
  },
  {
   "cell_type": "markdown",
   "metadata": {},
   "source": [
    "#### Fatal"
   ]
  },
  {
   "cell_type": "code",
   "execution_count": 15,
   "metadata": {},
   "outputs": [
    {
     "data": {
      "text/plain": [
       "N          4221\n",
       "Y          1322\n",
       "UNKNOWN      64\n",
       " N            7\n",
       "2017          1\n",
       "M             1\n",
       "N             1\n",
       "y             1\n",
       "Name: Fatal (Y/N), dtype: int64"
      ]
     },
     "execution_count": 15,
     "metadata": {},
     "output_type": "execute_result"
    }
   ],
   "source": [
    "df[\"Fatal (Y/N)\"].value_counts()"
   ]
  },
  {
   "cell_type": "code",
   "execution_count": 16,
   "metadata": {},
   "outputs": [
    {
     "data": {
      "text/plain": [
       "N          4229\n",
       "Y          1323\n",
       "Unknown     603\n",
       "Name: Fatal (Y/N), dtype: int64"
      ]
     },
     "execution_count": 16,
     "metadata": {},
     "output_type": "execute_result"
    }
   ],
   "source": [
    "df[\"Fatal (Y/N)\"]=df[\"Fatal (Y/N)\"].fillna('Unknown').str.upper().replace(\" N\", \"N\").replace(\"M\", \"Unknown\").replace(\"UNKNOWN\", \"Unknown\").replace(\"2017\", \"Unknown\").replace(\"N \", \"N\")\n",
    "df[\"Fatal (Y/N)\"].value_counts()"
   ]
  },
  {
   "cell_type": "markdown",
   "metadata": {},
   "source": [
    "#### Ages (creating a function)"
   ]
  },
  {
   "cell_type": "code",
   "execution_count": 17,
   "metadata": {},
   "outputs": [
    {
     "data": {
      "text/plain": [
       "17          154\n",
       "18          150\n",
       "19          141\n",
       "20          140\n",
       "15          137\n",
       "           ... \n",
       "10 or 12      1\n",
       "A.M.          1\n",
       "23 & 26       1\n",
       ">50           1\n",
       "Both 11       1\n",
       "Name: Age, Length: 156, dtype: int64"
      ]
     },
     "execution_count": 17,
     "metadata": {},
     "output_type": "execute_result"
    }
   ],
   "source": [
    "df[\"Age\"].value_counts()"
   ]
  },
  {
   "cell_type": "code",
   "execution_count": 18,
   "metadata": {},
   "outputs": [],
   "source": [
    "def age_review(x):\n",
    "    if str(x).isnumeric():\n",
    "        return x\n",
    "    else:\n",
    "        try:\n",
    "            y = str(x).split(\" \")\n",
    "            for i in y:\n",
    "                if i.isnumeric():\n",
    "                    return i\n",
    "                else:\n",
    "                    pass\n",
    "            return \"Unknown\"\n",
    "        except:\n",
    "            return \"Unknown\""
   ]
  },
  {
   "cell_type": "code",
   "execution_count": 19,
   "metadata": {},
   "outputs": [
    {
     "data": {
      "text/plain": [
       "Unknown    2753\n",
       "17          156\n",
       "18          153\n",
       "19          142\n",
       "20          141\n",
       "           ... \n",
       "82            1\n",
       "2             1\n",
       "2½            1\n",
       "67            1\n",
       "72            1\n",
       "Name: Age, Length: 84, dtype: int64"
      ]
     },
     "execution_count": 19,
     "metadata": {},
     "output_type": "execute_result"
    }
   ],
   "source": [
    "df[\"Age\"] = df[\"Age\"].fillna('Unknown').apply(age_review)\n",
    "df[\"Age\"].value_counts()"
   ]
  },
  {
   "cell_type": "markdown",
   "metadata": {},
   "source": [
    "#### Activities"
   ]
  },
  {
   "cell_type": "code",
   "execution_count": 20,
   "metadata": {},
   "outputs": [
    {
     "data": {
      "text/plain": [
       "Surfing                             969\n",
       "Swimming                            852\n",
       "Fishing                             422\n",
       "Spearfishing                        333\n",
       "Bathing                             157\n",
       "                                   ... \n",
       "Jumping in the waves                  1\n",
       "Bathing in 3' to 4' of water          1\n",
       "HBM Magpie foundered in a squall      1\n",
       "Washing hands                         1\n",
       "Boat capsized, clinging to line       1\n",
       "Name: Activity, Length: 1490, dtype: int64"
      ]
     },
     "execution_count": 20,
     "metadata": {},
     "output_type": "execute_result"
    }
   ],
   "source": [
    "df[\"Activity\"].value_counts()"
   ]
  },
  {
   "cell_type": "code",
   "execution_count": 21,
   "metadata": {},
   "outputs": [],
   "source": [
    "def review_activity(x):\n",
    "    if type(x)==str:\n",
    "        act = re.findall('\\S*ing',str(x))\n",
    "        if len(act) == 0:\n",
    "            return \"Unknown\"\n",
    "        else:\n",
    "            return re.sub(r\"[^a-zA-Z]+\", ' ', act[0]).lower()\n",
    "    else:\n",
    "        return \"Unknown\""
   ]
  },
  {
   "cell_type": "code",
   "execution_count": 22,
   "metadata": {},
   "outputs": [
    {
     "data": {
      "text/plain": [
       "unknown         1423\n",
       "surfing         1082\n",
       "swimming        1070\n",
       "fishing          691\n",
       "diving           496\n",
       "spearfishing     403\n",
       "bathing          181\n",
       "wading           164\n",
       "boarding         129\n",
       "standing         128\n",
       "snorkeling        93\n",
       "floating          47\n",
       "kayaking          42\n",
       "treading          39\n",
       "attempting        31\n",
       "walking           26\n",
       "playing           25\n",
       "skiing            22\n",
       "rowing            21\n",
       "windsurfing       21\n",
       "sitting           21\n",
       "Name: Activity, dtype: int64"
      ]
     },
     "execution_count": 22,
     "metadata": {},
     "output_type": "execute_result"
    }
   ],
   "source": [
    "df['Activity'] = df['Activity'].fillna('Unknown').apply(review_activity)\n",
    "list_activities = df[df[\"Activity\"]!='Unknown'][\"Activity\"].value_counts().nlargest(20).index.to_list()\n",
    "df['Activity'] = df['Activity'].apply(lambda x: x if x in list_activities else 'unknown')\n",
    "df['Activity'].value_counts()"
   ]
  },
  {
   "cell_type": "markdown",
   "metadata": {},
   "source": [
    "#### Species"
   ]
  },
  {
   "cell_type": "code",
   "execution_count": 23,
   "metadata": {},
   "outputs": [
    {
     "data": {
      "text/plain": [
       "White shark                                                                    161\n",
       "Shark involvement prior to death was not confirmed                             105\n",
       "Invalid                                                                        101\n",
       "Shark involvement not confirmed                                                 88\n",
       "Tiger shark                                                                     70\n",
       "                                                                              ... \n",
       "Said to involve a >4 m [13'] shark                                               1\n",
       "According to Benjamin, the injury was inflicted by a barracuda, not a shark      1\n",
       "White shark, 12' to 15' female                                                   1\n",
       "Tiger shark, 2.7m  [9']                                                          1\n",
       "Thought to involve a 3' to 4' shark, but shark involvement not confirmed         1\n",
       "Name: Species , Length: 1532, dtype: int64"
      ]
     },
     "execution_count": 23,
     "metadata": {},
     "output_type": "execute_result"
    }
   ],
   "source": [
    "df[\"Species \"].value_counts()"
   ]
  },
  {
   "cell_type": "code",
   "execution_count": 24,
   "metadata": {},
   "outputs": [
    {
     "data": {
      "text/plain": [
       "unknown           4743\n",
       "white shark        615\n",
       "tiger shark        252\n",
       "bull shark         161\n",
       "nurse shark         92\n",
       "whaler shark        65\n",
       "reef shark          63\n",
       "blacktip shark      58\n",
       "small shark         55\n",
       "mako shark          51\n",
       "Name: Species , dtype: int64"
      ]
     },
     "execution_count": 24,
     "metadata": {},
     "output_type": "execute_result"
    }
   ],
   "source": [
    "df['Species '] = df['Species '].str.findall('((?:\\w{3,} )?[s|S]hark)').str.join('').str.lower()\n",
    "list_activities = df[df[\"Species \"] != 'shark'][\"Species \"].value_counts().nlargest(10).index.to_list()\n",
    "df['Species '] = df['Species '].apply(lambda x: x if x in list_activities else 'unknown').fillna('unknown').replace(\"\",\"unknown\")\n",
    "df[\"Species \"].value_counts()"
   ]
  },
  {
   "cell_type": "markdown",
   "metadata": {},
   "source": [
    "#### Countries"
   ]
  },
  {
   "cell_type": "code",
   "execution_count": 25,
   "metadata": {},
   "outputs": [
    {
     "data": {
      "text/plain": [
       "USA                       2208\n",
       "AUSTRALIA                 1321\n",
       "SOUTH AFRICA               571\n",
       "PAPUA NEW GUINEA           130\n",
       "NEW ZEALAND                127\n",
       "                          ... \n",
       "BRITISH VIRGIN ISLANDS       1\n",
       "TASMAN SEA                   1\n",
       "NORTHERN ARABIAN SEA         1\n",
       "NORTH SEA                    1\n",
       "IRELAND                      1\n",
       "Name: Country, Length: 206, dtype: int64"
      ]
     },
     "execution_count": 25,
     "metadata": {},
     "output_type": "execute_result"
    }
   ],
   "source": [
    "df[\"Country\"]=df[\"Country\"].fillna('Unknown')\n",
    "df[\"Country\"].value_counts()"
   ]
  },
  {
   "cell_type": "markdown",
   "metadata": {},
   "source": [
    "#### Areas"
   ]
  },
  {
   "cell_type": "code",
   "execution_count": 26,
   "metadata": {},
   "outputs": [
    {
     "data": {
      "text/plain": [
       "Florida                1028\n",
       "New South Wales         483\n",
       "Unknown                 422\n",
       "Queensland              308\n",
       "Hawaii                  295\n",
       "                       ... \n",
       "St. Georges               1\n",
       "Port Louis Province       1\n",
       "North Palawan             1\n",
       "Mafia Island              1\n",
       "North Sumatra             1\n",
       "Name: Area, Length: 798, dtype: int64"
      ]
     },
     "execution_count": 26,
     "metadata": {},
     "output_type": "execute_result"
    }
   ],
   "source": [
    "df[\"Area\"]=df[\"Area\"].fillna('Unknown')\n",
    "df[\"Area\"].value_counts()"
   ]
  },
  {
   "cell_type": "markdown",
   "metadata": {},
   "source": [
    "#### Locations"
   ]
  },
  {
   "cell_type": "code",
   "execution_count": 27,
   "metadata": {},
   "outputs": [
    {
     "data": {
      "text/plain": [
       "Unknown                                 495\n",
       "New Smyrna Beach, Volusia County        163\n",
       "Daytona Beach, Volusia County            30\n",
       "Ponce Inlet, Volusia County              20\n",
       "Melbourne Beach, Brevard County          18\n",
       "                                       ... \n",
       "Muravera                                  1\n",
       "Slipper Island, Coromandel Peninsula      1\n",
       "Ocean City (offshore)                     1\n",
       "Port Aransas                              1\n",
       "Swan River, 13 miles upstream             1\n",
       "Name: Location, Length: 4041, dtype: int64"
      ]
     },
     "execution_count": 27,
     "metadata": {},
     "output_type": "execute_result"
    }
   ],
   "source": [
    "df[\"Location\"]=df[\"Location\"].fillna('Unknown')\n",
    "df[\"Location\"].value_counts()"
   ]
  },
  {
   "cell_type": "markdown",
   "metadata": {},
   "source": [
    "### Let's see how our data looks like and save it as a .csv"
   ]
  },
  {
   "cell_type": "code",
   "execution_count": 28,
   "metadata": {},
   "outputs": [
    {
     "data": {
      "text/html": [
       "<div>\n",
       "<style scoped>\n",
       "    .dataframe tbody tr th:only-of-type {\n",
       "        vertical-align: middle;\n",
       "    }\n",
       "\n",
       "    .dataframe tbody tr th {\n",
       "        vertical-align: top;\n",
       "    }\n",
       "\n",
       "    .dataframe thead th {\n",
       "        text-align: right;\n",
       "    }\n",
       "</style>\n",
       "<table border=\"1\" class=\"dataframe\">\n",
       "  <thead>\n",
       "    <tr style=\"text-align: right;\">\n",
       "      <th></th>\n",
       "      <th>Case Number</th>\n",
       "      <th>Type</th>\n",
       "      <th>Country</th>\n",
       "      <th>Area</th>\n",
       "      <th>Location</th>\n",
       "      <th>Activity</th>\n",
       "      <th>Sex</th>\n",
       "      <th>Age</th>\n",
       "      <th>Fatal (Y/N)</th>\n",
       "      <th>Species</th>\n",
       "      <th>Investigator or Source</th>\n",
       "      <th>Date</th>\n",
       "      <th>Year</th>\n",
       "    </tr>\n",
       "  </thead>\n",
       "  <tbody>\n",
       "    <tr>\n",
       "      <th>0</th>\n",
       "      <td>2018.06.25</td>\n",
       "      <td>Boating</td>\n",
       "      <td>USA</td>\n",
       "      <td>California</td>\n",
       "      <td>Oceanside, San Diego County</td>\n",
       "      <td>unknown</td>\n",
       "      <td>F</td>\n",
       "      <td>57</td>\n",
       "      <td>N</td>\n",
       "      <td>white shark</td>\n",
       "      <td>R. Collier, GSAF</td>\n",
       "      <td>2018-06-25</td>\n",
       "      <td>2018.0</td>\n",
       "    </tr>\n",
       "    <tr>\n",
       "      <th>1</th>\n",
       "      <td>2018.06.18</td>\n",
       "      <td>Unprovoked</td>\n",
       "      <td>USA</td>\n",
       "      <td>Georgia</td>\n",
       "      <td>St. Simon Island, Glynn County</td>\n",
       "      <td>standing</td>\n",
       "      <td>F</td>\n",
       "      <td>11</td>\n",
       "      <td>N</td>\n",
       "      <td>unknown</td>\n",
       "      <td>K.McMurray, TrackingSharks.com</td>\n",
       "      <td>2018-06-18</td>\n",
       "      <td>2018.0</td>\n",
       "    </tr>\n",
       "    <tr>\n",
       "      <th>2</th>\n",
       "      <td>2018.06.09</td>\n",
       "      <td>Invalid</td>\n",
       "      <td>USA</td>\n",
       "      <td>Hawaii</td>\n",
       "      <td>Habush, Oahu</td>\n",
       "      <td>surfing</td>\n",
       "      <td>M</td>\n",
       "      <td>48</td>\n",
       "      <td>N</td>\n",
       "      <td>unknown</td>\n",
       "      <td>K.McMurray, TrackingSharks.com</td>\n",
       "      <td>2018-06-09</td>\n",
       "      <td>2018.0</td>\n",
       "    </tr>\n",
       "    <tr>\n",
       "      <th>3</th>\n",
       "      <td>2018.06.08</td>\n",
       "      <td>Unprovoked</td>\n",
       "      <td>AUSTRALIA</td>\n",
       "      <td>New South Wales</td>\n",
       "      <td>Arrawarra Headland</td>\n",
       "      <td>surfing</td>\n",
       "      <td>M</td>\n",
       "      <td>Unknown</td>\n",
       "      <td>N</td>\n",
       "      <td>unknown</td>\n",
       "      <td>B. Myatt, GSAF</td>\n",
       "      <td>2018-06-08</td>\n",
       "      <td>2018.0</td>\n",
       "    </tr>\n",
       "    <tr>\n",
       "      <th>4</th>\n",
       "      <td>2018.06.04</td>\n",
       "      <td>Provoked</td>\n",
       "      <td>MEXICO</td>\n",
       "      <td>Colima</td>\n",
       "      <td>La Ticla</td>\n",
       "      <td>diving</td>\n",
       "      <td>M</td>\n",
       "      <td>Unknown</td>\n",
       "      <td>N</td>\n",
       "      <td>tiger shark</td>\n",
       "      <td>A .Kipper</td>\n",
       "      <td>2018-06-04</td>\n",
       "      <td>2018.0</td>\n",
       "    </tr>\n",
       "  </tbody>\n",
       "</table>\n",
       "</div>"
      ],
      "text/plain": [
       "  Case Number        Type    Country             Area  \\\n",
       "0  2018.06.25     Boating        USA       California   \n",
       "1  2018.06.18  Unprovoked        USA          Georgia   \n",
       "2  2018.06.09     Invalid        USA           Hawaii   \n",
       "3  2018.06.08  Unprovoked  AUSTRALIA  New South Wales   \n",
       "4  2018.06.04    Provoked     MEXICO           Colima   \n",
       "\n",
       "                         Location  Activity Sex       Age Fatal (Y/N)  \\\n",
       "0     Oceanside, San Diego County   unknown    F       57           N   \n",
       "1  St. Simon Island, Glynn County  standing    F       11           N   \n",
       "2                    Habush, Oahu   surfing    M       48           N   \n",
       "3              Arrawarra Headland   surfing    M  Unknown           N   \n",
       "4                        La Ticla    diving    M  Unknown           N   \n",
       "\n",
       "      Species           Investigator or Source       Date    Year  \n",
       "0  white shark                R. Collier, GSAF 2018-06-25  2018.0  \n",
       "1      unknown  K.McMurray, TrackingSharks.com 2018-06-18  2018.0  \n",
       "2      unknown  K.McMurray, TrackingSharks.com 2018-06-09  2018.0  \n",
       "3      unknown                  B. Myatt, GSAF 2018-06-08  2018.0  \n",
       "4  tiger shark                       A .Kipper 2018-06-04  2018.0  "
      ]
     },
     "execution_count": 28,
     "metadata": {},
     "output_type": "execute_result"
    }
   ],
   "source": [
    "df.head()"
   ]
  },
  {
   "cell_type": "code",
   "execution_count": 29,
   "metadata": {},
   "outputs": [],
   "source": [
    "df.to_csv('cleaned-sharks_XL.csv', header=True, index=False)"
   ]
  },
  {
   "cell_type": "markdown",
   "metadata": {},
   "source": [
    "## Analising"
   ]
  },
  {
   "cell_type": "markdown",
   "metadata": {},
   "source": [
    "### Countries with the most attacks"
   ]
  },
  {
   "cell_type": "code",
   "execution_count": 30,
   "metadata": {},
   "outputs": [
    {
     "data": {
      "text/plain": [
       "<AxesSubplot:>"
      ]
     },
     "execution_count": 30,
     "metadata": {},
     "output_type": "execute_result"
    },
    {
     "data": {
      "image/png": "[encoded data removed]",
      "text/plain": [
       "<Figure size 432x288 with 1 Axes>"
      ]
     },
     "metadata": {
      "needs_background": "light"
     },
     "output_type": "display_data"
    }
   ],
   "source": [
    "df['Country'].value_counts().head(10).sort_values().plot(kind='barh')"
   ]
  },
  {
   "cell_type": "markdown",
   "metadata": {},
   "source": [
    "### Evolution of the attacks (from 1900)"
   ]
  },
  {
   "cell_type": "code",
   "execution_count": 31,
   "metadata": {},
   "outputs": [],
   "source": [
    "df['Year']=df['Date'].dt.year"
   ]
  },
  {
   "cell_type": "code",
   "execution_count": 32,
   "metadata": {},
   "outputs": [
    {
     "data": {
      "text/plain": [
       "<AxesSubplot:>"
      ]
     },
     "execution_count": 32,
     "metadata": {},
     "output_type": "execute_result"
    },
    {
     "data": {
      "image/png": "[encoded data removed]",
      "text/plain": [
       "<Figure size 1440x288 with 1 Axes>"
      ]
     },
     "metadata": {
      "needs_background": "light"
     },
     "output_type": "display_data"
    }
   ],
   "source": [
    "df[df['Year']>1900]['Year'].hist(bins=80,figsize=(20,4))"
   ]
  },
  {
   "cell_type": "markdown",
   "metadata": {},
   "source": [
    "### Most dangerous sharks"
   ]
  },
  {
   "cell_type": "code",
   "execution_count": 33,
   "metadata": {},
   "outputs": [
    {
     "data": {
      "text/plain": [
       "<AxesSubplot:>"
      ]
     },
     "execution_count": 33,
     "metadata": {},
     "output_type": "execute_result"
    },
    {
     "data": {
      "image/png": "[encoded data removed]",
      "text/plain": [
       "<Figure size 432x288 with 1 Axes>"
      ]
     },
     "metadata": {
      "needs_background": "light"
     },
     "output_type": "display_data"
    }
   ],
   "source": [
    "df[df['Species ']!='unknown']['Species '].value_counts().plot(kind='barh')"
   ]
  },
  {
   "cell_type": "markdown",
   "metadata": {},
   "source": [
    "### Most dangerous activities\n"
   ]
  },
  {
   "cell_type": "code",
   "execution_count": 34,
   "metadata": {},
   "outputs": [
    {
     "data": {
      "text/plain": [
       "<AxesSubplot:>"
      ]
     },
     "execution_count": 34,
     "metadata": {},
     "output_type": "execute_result"
    },
    {
     "data": {
      "image/png": "[encoded data removed]",
      "text/plain": [
       "<Figure size 432x288 with 1 Axes>"
      ]
     },
     "metadata": {
      "needs_background": "light"
     },
     "output_type": "display_data"
    }
   ],
   "source": [
    "df[df['Activity']!='unknown']['Activity'].value_counts().plot(kind='barh')"
   ]
  },
  {
   "cell_type": "markdown",
   "metadata": {},
   "source": [
    "### Attacks in Spain"
   ]
  },
  {
   "cell_type": "code",
   "execution_count": 35,
   "metadata": {},
   "outputs": [
    {
     "data": {
      "text/html": [
       "<div>\n",
       "<style scoped>\n",
       "    .dataframe tbody tr th:only-of-type {\n",
       "        vertical-align: middle;\n",
       "    }\n",
       "\n",
       "    .dataframe tbody tr th {\n",
       "        vertical-align: top;\n",
       "    }\n",
       "\n",
       "    .dataframe thead th {\n",
       "        text-align: right;\n",
       "    }\n",
       "</style>\n",
       "<table border=\"1\" class=\"dataframe\">\n",
       "  <thead>\n",
       "    <tr style=\"text-align: right;\">\n",
       "      <th></th>\n",
       "      <th>Case Number</th>\n",
       "      <th>Type</th>\n",
       "      <th>Country</th>\n",
       "      <th>Area</th>\n",
       "      <th>Location</th>\n",
       "      <th>Activity</th>\n",
       "      <th>Sex</th>\n",
       "      <th>Age</th>\n",
       "      <th>Fatal (Y/N)</th>\n",
       "      <th>Species</th>\n",
       "      <th>Investigator or Source</th>\n",
       "      <th>Date</th>\n",
       "      <th>Year</th>\n",
       "    </tr>\n",
       "  </thead>\n",
       "  <tbody>\n",
       "    <tr>\n",
       "      <th>82</th>\n",
       "      <td>2017.09.16.b</td>\n",
       "      <td>Unprovoked</td>\n",
       "      <td>SPAIN</td>\n",
       "      <td>Canary Islands</td>\n",
       "      <td>Gran Canaria</td>\n",
       "      <td>surfing</td>\n",
       "      <td>M</td>\n",
       "      <td>13</td>\n",
       "      <td>N</td>\n",
       "      <td>unknown</td>\n",
       "      <td>Turismo La Aldea</td>\n",
       "      <td>2017-09-16</td>\n",
       "      <td>2017</td>\n",
       "    </tr>\n",
       "    <tr>\n",
       "      <th>98</th>\n",
       "      <td>2017.08.26.b</td>\n",
       "      <td>Invalid</td>\n",
       "      <td>SPAIN</td>\n",
       "      <td>Castellón</td>\n",
       "      <td>Grao de Moncofa</td>\n",
       "      <td>swimming</td>\n",
       "      <td>F</td>\n",
       "      <td>11</td>\n",
       "      <td>Unknown</td>\n",
       "      <td>unknown</td>\n",
       "      <td>El Periodico Mediterraneo, 8/27/2017</td>\n",
       "      <td>2017-08-26</td>\n",
       "      <td>2017</td>\n",
       "    </tr>\n",
       "    <tr>\n",
       "      <th>113</th>\n",
       "      <td>2017.07.23.a</td>\n",
       "      <td>Unprovoked</td>\n",
       "      <td>SPAIN</td>\n",
       "      <td>Majorca</td>\n",
       "      <td>Estanys Beach, Colonia de Sant</td>\n",
       "      <td>swimming</td>\n",
       "      <td>F</td>\n",
       "      <td>Unknown</td>\n",
       "      <td>N</td>\n",
       "      <td>unknown</td>\n",
       "      <td>Daily Record, 7/24/2017</td>\n",
       "      <td>2017-07-23</td>\n",
       "      <td>2017</td>\n",
       "    </tr>\n",
       "    <tr>\n",
       "      <th>130</th>\n",
       "      <td>2017.06.17</td>\n",
       "      <td>Unprovoked</td>\n",
       "      <td>SPAIN</td>\n",
       "      <td>Ibiza Island</td>\n",
       "      <td>Playa den Bossa</td>\n",
       "      <td>swimming</td>\n",
       "      <td>M</td>\n",
       "      <td>82</td>\n",
       "      <td>N</td>\n",
       "      <td>unknown</td>\n",
       "      <td>Diario de Ibiza, 6/17/'2017</td>\n",
       "      <td>2017-06-17</td>\n",
       "      <td>2017</td>\n",
       "    </tr>\n",
       "    <tr>\n",
       "      <th>234</th>\n",
       "      <td>2016.07.29</td>\n",
       "      <td>Unprovoked</td>\n",
       "      <td>SPAIN</td>\n",
       "      <td>Alicante Province</td>\n",
       "      <td>Arenales del Sol</td>\n",
       "      <td>swimming</td>\n",
       "      <td>M</td>\n",
       "      <td>40</td>\n",
       "      <td>N</td>\n",
       "      <td>unknown</td>\n",
       "      <td>Informacion.es, 7/29/2016</td>\n",
       "      <td>2016-07-29</td>\n",
       "      <td>2016</td>\n",
       "    </tr>\n",
       "    <tr>\n",
       "      <th>249</th>\n",
       "      <td>2016.07.08.R</td>\n",
       "      <td>Unprovoked</td>\n",
       "      <td>SPAIN</td>\n",
       "      <td>Canary Islands</td>\n",
       "      <td>Las Teresitas, Tenerife</td>\n",
       "      <td>wading</td>\n",
       "      <td>F</td>\n",
       "      <td>10</td>\n",
       "      <td>N</td>\n",
       "      <td>unknown</td>\n",
       "      <td>La Opinion de Tenerife</td>\n",
       "      <td>2016-07-08</td>\n",
       "      <td>2016</td>\n",
       "    </tr>\n",
       "    <tr>\n",
       "      <th>321</th>\n",
       "      <td>2015.12.25</td>\n",
       "      <td>Unprovoked</td>\n",
       "      <td>SPAIN</td>\n",
       "      <td>Grand Canary Island</td>\n",
       "      <td>Arinaga Beach, Aguimes, Gran Canaria</td>\n",
       "      <td>swimming</td>\n",
       "      <td>F</td>\n",
       "      <td>38</td>\n",
       "      <td>N</td>\n",
       "      <td>unknown</td>\n",
       "      <td>Diaro de Visos, 12/26/2015</td>\n",
       "      <td>2015-12-25</td>\n",
       "      <td>2015</td>\n",
       "    </tr>\n",
       "    <tr>\n",
       "      <th>378</th>\n",
       "      <td>2015.08.18.a</td>\n",
       "      <td>Invalid</td>\n",
       "      <td>SPAIN</td>\n",
       "      <td>Alicante</td>\n",
       "      <td>Poniente Beach, Benidorm</td>\n",
       "      <td>swimming</td>\n",
       "      <td>M</td>\n",
       "      <td>10</td>\n",
       "      <td>Unknown</td>\n",
       "      <td>unknown</td>\n",
       "      <td>The Local, 8/18/2015</td>\n",
       "      <td>2015-08-18</td>\n",
       "      <td>2015</td>\n",
       "    </tr>\n",
       "    <tr>\n",
       "      <th>471</th>\n",
       "      <td>2014.12.03.R</td>\n",
       "      <td>Provoked</td>\n",
       "      <td>SPAIN</td>\n",
       "      <td>Granada</td>\n",
       "      <td>Off Motril</td>\n",
       "      <td>fishing</td>\n",
       "      <td>M</td>\n",
       "      <td>Unknown</td>\n",
       "      <td>N</td>\n",
       "      <td>unknown</td>\n",
       "      <td>ABCandalucia, 12/3/2014</td>\n",
       "      <td>2014-12-03</td>\n",
       "      <td>2014</td>\n",
       "    </tr>\n",
       "    <tr>\n",
       "      <th>504</th>\n",
       "      <td>2014.09.00</td>\n",
       "      <td>Unprovoked</td>\n",
       "      <td>SPAIN</td>\n",
       "      <td>Catalonia</td>\n",
       "      <td>Salou</td>\n",
       "      <td>playing</td>\n",
       "      <td>M</td>\n",
       "      <td>16</td>\n",
       "      <td>N</td>\n",
       "      <td>unknown</td>\n",
       "      <td>A. Brenneka, Shark Attack Survivors</td>\n",
       "      <td>2014-09-01</td>\n",
       "      <td>2014</td>\n",
       "    </tr>\n",
       "    <tr>\n",
       "      <th>509</th>\n",
       "      <td>2014.08.27.c</td>\n",
       "      <td>Unprovoked</td>\n",
       "      <td>SPAIN</td>\n",
       "      <td>Alicante</td>\n",
       "      <td>Benidorm</td>\n",
       "      <td>swimming</td>\n",
       "      <td>F</td>\n",
       "      <td>Unknown</td>\n",
       "      <td>N</td>\n",
       "      <td>small shark</td>\n",
       "      <td>Diario Informacion, 8/29/2014</td>\n",
       "      <td>2014-08-27</td>\n",
       "      <td>2014</td>\n",
       "    </tr>\n",
       "    <tr>\n",
       "      <th>529</th>\n",
       "      <td>2014.07.20</td>\n",
       "      <td>Unprovoked</td>\n",
       "      <td>SPAIN</td>\n",
       "      <td>Canary Islands</td>\n",
       "      <td>Teresita, Santa Cruz, Tenerife</td>\n",
       "      <td>wading</td>\n",
       "      <td>Unknown</td>\n",
       "      <td>Unknown</td>\n",
       "      <td>N</td>\n",
       "      <td>unknown</td>\n",
       "      <td>DiariodeAvisos, 7/25/2014</td>\n",
       "      <td>2014-07-20</td>\n",
       "      <td>2014</td>\n",
       "    </tr>\n",
       "    <tr>\n",
       "      <th>657</th>\n",
       "      <td>2013.07.09</td>\n",
       "      <td>Invalid</td>\n",
       "      <td>SPAIN</td>\n",
       "      <td>Catalonia</td>\n",
       "      <td>Sant Marti dEmpuries Beach, LEscala</td>\n",
       "      <td>swimming</td>\n",
       "      <td>M</td>\n",
       "      <td>48</td>\n",
       "      <td>Unknown</td>\n",
       "      <td>unknown</td>\n",
       "      <td>DH.be, 7/11/2013</td>\n",
       "      <td>2013-07-09</td>\n",
       "      <td>2013</td>\n",
       "    </tr>\n",
       "    <tr>\n",
       "      <th>1011</th>\n",
       "      <td>2010.07.16.b</td>\n",
       "      <td>Provoked</td>\n",
       "      <td>SPAIN</td>\n",
       "      <td>Grand Canary Island</td>\n",
       "      <td>Sardina del Norte, Gáldar</td>\n",
       "      <td>swimming</td>\n",
       "      <td>M</td>\n",
       "      <td>9</td>\n",
       "      <td>N</td>\n",
       "      <td>unknown</td>\n",
       "      <td>gáldahora, 7/16/2010</td>\n",
       "      <td>2010-07-16</td>\n",
       "      <td>2010</td>\n",
       "    </tr>\n",
       "    <tr>\n",
       "      <th>1107</th>\n",
       "      <td>2009.07.24.a</td>\n",
       "      <td>Invalid</td>\n",
       "      <td>SPAIN</td>\n",
       "      <td>Catalunya</td>\n",
       "      <td>Sant Salvador</td>\n",
       "      <td>swimming</td>\n",
       "      <td>F</td>\n",
       "      <td>11</td>\n",
       "      <td>Unknown</td>\n",
       "      <td>unknown</td>\n",
       "      <td>ABC-Spain, 7/25/2009</td>\n",
       "      <td>2009-07-24</td>\n",
       "      <td>2009</td>\n",
       "    </tr>\n",
       "    <tr>\n",
       "      <th>1458</th>\n",
       "      <td>2006.07.13</td>\n",
       "      <td>Invalid</td>\n",
       "      <td>SPAIN</td>\n",
       "      <td>Alicante</td>\n",
       "      <td>San Juan Beach</td>\n",
       "      <td>swimming</td>\n",
       "      <td>F</td>\n",
       "      <td>7</td>\n",
       "      <td>Unknown</td>\n",
       "      <td>unknown</td>\n",
       "      <td>C. Johansson</td>\n",
       "      <td>2006-07-13</td>\n",
       "      <td>2006</td>\n",
       "    </tr>\n",
       "    <tr>\n",
       "      <th>2476</th>\n",
       "      <td>1993.09.03</td>\n",
       "      <td>Unprovoked</td>\n",
       "      <td>SPAIN</td>\n",
       "      <td>Costa Blanca</td>\n",
       "      <td>Playa de las Arenas, Valencia</td>\n",
       "      <td>swimming</td>\n",
       "      <td>M</td>\n",
       "      <td>69</td>\n",
       "      <td>N</td>\n",
       "      <td>unknown</td>\n",
       "      <td>Orlando Sentinel, 9/5/1993, p. A.22 citing El ...</td>\n",
       "      <td>1993-09-03</td>\n",
       "      <td>1993</td>\n",
       "    </tr>\n",
       "    <tr>\n",
       "      <th>2821</th>\n",
       "      <td>1986.04.00</td>\n",
       "      <td>Unprovoked</td>\n",
       "      <td>SPAIN</td>\n",
       "      <td>Catalonia</td>\n",
       "      <td>Lloret-de-Mar</td>\n",
       "      <td>diving</td>\n",
       "      <td>M</td>\n",
       "      <td>Unknown</td>\n",
       "      <td>N</td>\n",
       "      <td>unknown</td>\n",
       "      <td>C. Moore. GSAF</td>\n",
       "      <td>1986-04-01</td>\n",
       "      <td>1986</td>\n",
       "    </tr>\n",
       "    <tr>\n",
       "      <th>2822</th>\n",
       "      <td>1986.03.18</td>\n",
       "      <td>Unprovoked</td>\n",
       "      <td>SPAIN</td>\n",
       "      <td>Cádiz</td>\n",
       "      <td>Tarifa</td>\n",
       "      <td>windsurfing</td>\n",
       "      <td>M</td>\n",
       "      <td>Unknown</td>\n",
       "      <td>N</td>\n",
       "      <td>white shark</td>\n",
       "      <td>A. DeMaddalena. GSAF</td>\n",
       "      <td>1986-03-18</td>\n",
       "      <td>1986</td>\n",
       "    </tr>\n",
       "    <tr>\n",
       "      <th>3059</th>\n",
       "      <td>1980.07.26</td>\n",
       "      <td>Unprovoked</td>\n",
       "      <td>SPAIN</td>\n",
       "      <td>Canary Islands</td>\n",
       "      <td>San Juan de la Rambla, Tenerife</td>\n",
       "      <td>diving</td>\n",
       "      <td>M</td>\n",
       "      <td>Unknown</td>\n",
       "      <td>N</td>\n",
       "      <td>unknown</td>\n",
       "      <td>C. Moore. GSAF</td>\n",
       "      <td>1980-07-26</td>\n",
       "      <td>1980</td>\n",
       "    </tr>\n",
       "    <tr>\n",
       "      <th>3409</th>\n",
       "      <td>1970.00.00.g</td>\n",
       "      <td>Unprovoked</td>\n",
       "      <td>SPAIN</td>\n",
       "      <td>Canary Islands</td>\n",
       "      <td>Icod de los Vinos, Tenerife</td>\n",
       "      <td>spearfishing</td>\n",
       "      <td>M</td>\n",
       "      <td>Unknown</td>\n",
       "      <td>N</td>\n",
       "      <td>unknown</td>\n",
       "      <td>C. Moore. GSAF</td>\n",
       "      <td>1970-01-01</td>\n",
       "      <td>1970</td>\n",
       "    </tr>\n",
       "    <tr>\n",
       "      <th>3859</th>\n",
       "      <td>1962.00.00.c</td>\n",
       "      <td>Unprovoked</td>\n",
       "      <td>SPAIN</td>\n",
       "      <td>Catalonia</td>\n",
       "      <td>Aigua Blava</td>\n",
       "      <td>unknown</td>\n",
       "      <td>F</td>\n",
       "      <td>Unknown</td>\n",
       "      <td>N</td>\n",
       "      <td>unknown</td>\n",
       "      <td>C. Moore, GSAF</td>\n",
       "      <td>1962-01-01</td>\n",
       "      <td>1962</td>\n",
       "    </tr>\n",
       "    <tr>\n",
       "      <th>5038</th>\n",
       "      <td>1930.08.16</td>\n",
       "      <td>Unprovoked</td>\n",
       "      <td>SPAIN</td>\n",
       "      <td>Canary Islands</td>\n",
       "      <td>El Escabonal, Tenerife</td>\n",
       "      <td>swimming</td>\n",
       "      <td>M</td>\n",
       "      <td>38</td>\n",
       "      <td>N</td>\n",
       "      <td>unknown</td>\n",
       "      <td>C. Moore. GSAF</td>\n",
       "      <td>1930-08-16</td>\n",
       "      <td>1930</td>\n",
       "    </tr>\n",
       "    <tr>\n",
       "      <th>5065</th>\n",
       "      <td>1929.10.02</td>\n",
       "      <td>Unprovoked</td>\n",
       "      <td>SPAIN</td>\n",
       "      <td>Valencia</td>\n",
       "      <td>Nasareth Beach</td>\n",
       "      <td>fishing</td>\n",
       "      <td>M</td>\n",
       "      <td>Unknown</td>\n",
       "      <td>N</td>\n",
       "      <td>unknown</td>\n",
       "      <td>C. Moore. GSAF</td>\n",
       "      <td>1929-10-02</td>\n",
       "      <td>1929</td>\n",
       "    </tr>\n",
       "    <tr>\n",
       "      <th>5149</th>\n",
       "      <td>1926.07.03</td>\n",
       "      <td>Invalid</td>\n",
       "      <td>SPAIN</td>\n",
       "      <td>Sants-Montjic</td>\n",
       "      <td>Casa Antunez Beach, Barcelona</td>\n",
       "      <td>bathing</td>\n",
       "      <td>M</td>\n",
       "      <td>Unknown</td>\n",
       "      <td>Unknown</td>\n",
       "      <td>unknown</td>\n",
       "      <td>C. Moore, GSAF</td>\n",
       "      <td>1926-07-03</td>\n",
       "      <td>1926</td>\n",
       "    </tr>\n",
       "    <tr>\n",
       "      <th>5163</th>\n",
       "      <td>1925.09.04</td>\n",
       "      <td>Provoked</td>\n",
       "      <td>SPAIN</td>\n",
       "      <td>Valencia</td>\n",
       "      <td>Valencia</td>\n",
       "      <td>fishing</td>\n",
       "      <td>M</td>\n",
       "      <td>Unknown</td>\n",
       "      <td>N</td>\n",
       "      <td>unknown</td>\n",
       "      <td>C. Moore. GSAF</td>\n",
       "      <td>1925-09-04</td>\n",
       "      <td>1925</td>\n",
       "    </tr>\n",
       "    <tr>\n",
       "      <th>5187</th>\n",
       "      <td>1924.03.24</td>\n",
       "      <td>Boating</td>\n",
       "      <td>SPAIN</td>\n",
       "      <td>Galica</td>\n",
       "      <td>Sisargas Islands</td>\n",
       "      <td>fishing</td>\n",
       "      <td>Unknown</td>\n",
       "      <td>Unknown</td>\n",
       "      <td>N</td>\n",
       "      <td>unknown</td>\n",
       "      <td>C. Moore, GSAF</td>\n",
       "      <td>1924-03-24</td>\n",
       "      <td>1924</td>\n",
       "    </tr>\n",
       "    <tr>\n",
       "      <th>5308</th>\n",
       "      <td>1916.07.08</td>\n",
       "      <td>Unprovoked</td>\n",
       "      <td>SPAIN</td>\n",
       "      <td>Gran Canaria</td>\n",
       "      <td>Las Palmas</td>\n",
       "      <td>diving</td>\n",
       "      <td>M</td>\n",
       "      <td>Unknown</td>\n",
       "      <td>N</td>\n",
       "      <td>unknown</td>\n",
       "      <td>C. Moore. GSAF</td>\n",
       "      <td>1916-07-08</td>\n",
       "      <td>1916</td>\n",
       "    </tr>\n",
       "    <tr>\n",
       "      <th>5379</th>\n",
       "      <td>1912.00.00</td>\n",
       "      <td>Unprovoked</td>\n",
       "      <td>SPAIN</td>\n",
       "      <td>Balearics</td>\n",
       "      <td>Isla Cabrera</td>\n",
       "      <td>unknown</td>\n",
       "      <td>M</td>\n",
       "      <td>Unknown</td>\n",
       "      <td>Y</td>\n",
       "      <td>white shark</td>\n",
       "      <td>C. Moore. GSAF</td>\n",
       "      <td>1912-01-01</td>\n",
       "      <td>1912</td>\n",
       "    </tr>\n",
       "    <tr>\n",
       "      <th>5386</th>\n",
       "      <td>1911.07.31.R</td>\n",
       "      <td>Unprovoked</td>\n",
       "      <td>SPAIN</td>\n",
       "      <td>Málaga</td>\n",
       "      <td>Ceuta</td>\n",
       "      <td>bathing</td>\n",
       "      <td>M</td>\n",
       "      <td>Unknown</td>\n",
       "      <td>Y</td>\n",
       "      <td>unknown</td>\n",
       "      <td>C. Moore. GSAF</td>\n",
       "      <td>1911-07-31</td>\n",
       "      <td>1911</td>\n",
       "    </tr>\n",
       "    <tr>\n",
       "      <th>5421</th>\n",
       "      <td>1909.04.27.R</td>\n",
       "      <td>Provoked</td>\n",
       "      <td>SPAIN</td>\n",
       "      <td>Andalucia</td>\n",
       "      <td>Puente Mayorga, San Roque, Cádiz</td>\n",
       "      <td>fishing</td>\n",
       "      <td>M</td>\n",
       "      <td>Unknown</td>\n",
       "      <td>N</td>\n",
       "      <td>unknown</td>\n",
       "      <td>C. Moore, GSAF</td>\n",
       "      <td>1909-04-27</td>\n",
       "      <td>1909</td>\n",
       "    </tr>\n",
       "    <tr>\n",
       "      <th>5432</th>\n",
       "      <td>1908.08.28.R</td>\n",
       "      <td>Unprovoked</td>\n",
       "      <td>SPAIN</td>\n",
       "      <td>Galicia</td>\n",
       "      <td>Cape Finisterre</td>\n",
       "      <td>unknown</td>\n",
       "      <td>M</td>\n",
       "      <td>Unknown</td>\n",
       "      <td>Y</td>\n",
       "      <td>unknown</td>\n",
       "      <td>Poverty Bay Herald, 10/14/1908</td>\n",
       "      <td>1908-08-28</td>\n",
       "      <td>1908</td>\n",
       "    </tr>\n",
       "    <tr>\n",
       "      <th>5433</th>\n",
       "      <td>1908.07.18.R</td>\n",
       "      <td>Invalid</td>\n",
       "      <td>SPAIN</td>\n",
       "      <td>Canary Islands</td>\n",
       "      <td>Tazacorte, La Palma</td>\n",
       "      <td>unknown</td>\n",
       "      <td>Unknown</td>\n",
       "      <td>Unknown</td>\n",
       "      <td>Unknown</td>\n",
       "      <td>unknown</td>\n",
       "      <td>C. Moore, GSAF</td>\n",
       "      <td>1908-07-18</td>\n",
       "      <td>1908</td>\n",
       "    </tr>\n",
       "    <tr>\n",
       "      <th>5831</th>\n",
       "      <td>1879.09.22</td>\n",
       "      <td>Provoked</td>\n",
       "      <td>SPAIN</td>\n",
       "      <td>Valencia</td>\n",
       "      <td>Castellon de la Plana</td>\n",
       "      <td>fishing</td>\n",
       "      <td>Unknown</td>\n",
       "      <td>Unknown</td>\n",
       "      <td>N</td>\n",
       "      <td>unknown</td>\n",
       "      <td>C. Moore, GSAF</td>\n",
       "      <td>1879-09-22</td>\n",
       "      <td>1879</td>\n",
       "    </tr>\n",
       "    <tr>\n",
       "      <th>5943</th>\n",
       "      <td>1864.07.25</td>\n",
       "      <td>Unprovoked</td>\n",
       "      <td>SPAIN</td>\n",
       "      <td>Eastern Catalona</td>\n",
       "      <td>Badalona</td>\n",
       "      <td>bathing</td>\n",
       "      <td>M</td>\n",
       "      <td>Unknown</td>\n",
       "      <td>Y</td>\n",
       "      <td>unknown</td>\n",
       "      <td>C. Moore, GSAF</td>\n",
       "      <td>1864-07-25</td>\n",
       "      <td>1864</td>\n",
       "    </tr>\n",
       "    <tr>\n",
       "      <th>5966</th>\n",
       "      <td>1862.08.15.R</td>\n",
       "      <td>Unprovoked</td>\n",
       "      <td>SPAIN</td>\n",
       "      <td>Unknown</td>\n",
       "      <td>A Spanish port</td>\n",
       "      <td>bathing</td>\n",
       "      <td>F</td>\n",
       "      <td>Unknown</td>\n",
       "      <td>N</td>\n",
       "      <td>unknown</td>\n",
       "      <td>C. Moore. GSAF</td>\n",
       "      <td>1862-08-15</td>\n",
       "      <td>1862</td>\n",
       "    </tr>\n",
       "    <tr>\n",
       "      <th>5967</th>\n",
       "      <td>1862.08.02.R</td>\n",
       "      <td>Invalid</td>\n",
       "      <td>SPAIN</td>\n",
       "      <td>Malaga</td>\n",
       "      <td>Fuengirola</td>\n",
       "      <td>unknown</td>\n",
       "      <td>M</td>\n",
       "      <td>Unknown</td>\n",
       "      <td>Unknown</td>\n",
       "      <td>unknown</td>\n",
       "      <td>C. Moore. GSAF</td>\n",
       "      <td>1862-08-02</td>\n",
       "      <td>1862</td>\n",
       "    </tr>\n",
       "    <tr>\n",
       "      <th>5968</th>\n",
       "      <td>1862.07.25</td>\n",
       "      <td>Unprovoked</td>\n",
       "      <td>SPAIN</td>\n",
       "      <td>Malaga</td>\n",
       "      <td>San Andres Beach</td>\n",
       "      <td>swimming</td>\n",
       "      <td>M</td>\n",
       "      <td>18</td>\n",
       "      <td>Y</td>\n",
       "      <td>unknown</td>\n",
       "      <td>C. Moore. GSAF</td>\n",
       "      <td>1862-07-25</td>\n",
       "      <td>1862</td>\n",
       "    </tr>\n",
       "    <tr>\n",
       "      <th>5969</th>\n",
       "      <td>1862.07.14</td>\n",
       "      <td>Unprovoked</td>\n",
       "      <td>SPAIN</td>\n",
       "      <td>Cádiz</td>\n",
       "      <td>Off Algeciras</td>\n",
       "      <td>unknown</td>\n",
       "      <td>M</td>\n",
       "      <td>18</td>\n",
       "      <td>Y</td>\n",
       "      <td>unknown</td>\n",
       "      <td>C. Moore. GSAF</td>\n",
       "      <td>1862-07-14</td>\n",
       "      <td>1862</td>\n",
       "    </tr>\n",
       "    <tr>\n",
       "      <th>5970</th>\n",
       "      <td>1862.07.13</td>\n",
       "      <td>Unprovoked</td>\n",
       "      <td>SPAIN</td>\n",
       "      <td>Cádiz</td>\n",
       "      <td>Off Algeciras</td>\n",
       "      <td>swimming</td>\n",
       "      <td>M</td>\n",
       "      <td>Unknown</td>\n",
       "      <td>Y</td>\n",
       "      <td>unknown</td>\n",
       "      <td>C. Moore; W.H. Bedlam</td>\n",
       "      <td>1862-07-13</td>\n",
       "      <td>1862</td>\n",
       "    </tr>\n",
       "    <tr>\n",
       "      <th>6080</th>\n",
       "      <td>1836.07.26.R</td>\n",
       "      <td>Invalid</td>\n",
       "      <td>SPAIN</td>\n",
       "      <td>Unknown</td>\n",
       "      <td>Unknown</td>\n",
       "      <td>unknown</td>\n",
       "      <td>Unknown</td>\n",
       "      <td>Unknown</td>\n",
       "      <td>Unknown</td>\n",
       "      <td>unknown</td>\n",
       "      <td>C. Moore, GSAF</td>\n",
       "      <td>1836-07-26</td>\n",
       "      <td>1836</td>\n",
       "    </tr>\n",
       "    <tr>\n",
       "      <th>6110</th>\n",
       "      <td>1819.07.08.R</td>\n",
       "      <td>Invalid</td>\n",
       "      <td>SPAIN</td>\n",
       "      <td>Unknown</td>\n",
       "      <td>Cadiz</td>\n",
       "      <td>unknown</td>\n",
       "      <td>M</td>\n",
       "      <td>Unknown</td>\n",
       "      <td>Unknown</td>\n",
       "      <td>unknown</td>\n",
       "      <td>C. Moore, GSAF</td>\n",
       "      <td>1819-07-08</td>\n",
       "      <td>1819</td>\n",
       "    </tr>\n",
       "    <tr>\n",
       "      <th>6148</th>\n",
       "      <td>1764.00.00</td>\n",
       "      <td>Unprovoked</td>\n",
       "      <td>SPAIN</td>\n",
       "      <td>Unknown</td>\n",
       "      <td>Guadalquivir River</td>\n",
       "      <td>swimming</td>\n",
       "      <td>M</td>\n",
       "      <td>Unknown</td>\n",
       "      <td>Y</td>\n",
       "      <td>unknown</td>\n",
       "      <td>C. Moore, GSAF</td>\n",
       "      <td>1764-01-01</td>\n",
       "      <td>1764</td>\n",
       "    </tr>\n",
       "  </tbody>\n",
       "</table>\n",
       "</div>"
      ],
      "text/plain": [
       "       Case Number        Type Country                 Area  \\\n",
       "82    2017.09.16.b  Unprovoked   SPAIN       Canary Islands   \n",
       "98    2017.08.26.b     Invalid   SPAIN            Castellón   \n",
       "113   2017.07.23.a  Unprovoked   SPAIN              Majorca   \n",
       "130     2017.06.17  Unprovoked   SPAIN         Ibiza Island   \n",
       "234     2016.07.29  Unprovoked   SPAIN    Alicante Province   \n",
       "249   2016.07.08.R  Unprovoked   SPAIN       Canary Islands   \n",
       "321     2015.12.25  Unprovoked   SPAIN  Grand Canary Island   \n",
       "378   2015.08.18.a     Invalid   SPAIN             Alicante   \n",
       "471   2014.12.03.R    Provoked   SPAIN              Granada   \n",
       "504     2014.09.00  Unprovoked   SPAIN            Catalonia   \n",
       "509   2014.08.27.c  Unprovoked   SPAIN             Alicante   \n",
       "529     2014.07.20  Unprovoked   SPAIN       Canary Islands   \n",
       "657     2013.07.09     Invalid   SPAIN            Catalonia   \n",
       "1011  2010.07.16.b    Provoked   SPAIN  Grand Canary Island   \n",
       "1107  2009.07.24.a     Invalid   SPAIN            Catalunya   \n",
       "1458    2006.07.13     Invalid   SPAIN             Alicante   \n",
       "2476    1993.09.03  Unprovoked   SPAIN         Costa Blanca   \n",
       "2821    1986.04.00  Unprovoked   SPAIN            Catalonia   \n",
       "2822    1986.03.18  Unprovoked   SPAIN                Cádiz   \n",
       "3059    1980.07.26  Unprovoked   SPAIN       Canary Islands   \n",
       "3409  1970.00.00.g  Unprovoked   SPAIN       Canary Islands   \n",
       "3859  1962.00.00.c  Unprovoked   SPAIN            Catalonia   \n",
       "5038    1930.08.16  Unprovoked   SPAIN       Canary Islands   \n",
       "5065    1929.10.02  Unprovoked   SPAIN             Valencia   \n",
       "5149    1926.07.03     Invalid   SPAIN        Sants-Montjic   \n",
       "5163    1925.09.04    Provoked   SPAIN            Valencia    \n",
       "5187    1924.03.24     Boating   SPAIN               Galica   \n",
       "5308    1916.07.08  Unprovoked   SPAIN         Gran Canaria   \n",
       "5379    1912.00.00  Unprovoked   SPAIN            Balearics   \n",
       "5386  1911.07.31.R  Unprovoked   SPAIN              Málaga    \n",
       "5421  1909.04.27.R    Provoked   SPAIN            Andalucia   \n",
       "5432  1908.08.28.R  Unprovoked   SPAIN              Galicia   \n",
       "5433  1908.07.18.R     Invalid   SPAIN       Canary Islands   \n",
       "5831    1879.09.22    Provoked   SPAIN             Valencia   \n",
       "5943    1864.07.25  Unprovoked   SPAIN     Eastern Catalona   \n",
       "5966  1862.08.15.R  Unprovoked   SPAIN              Unknown   \n",
       "5967  1862.08.02.R     Invalid   SPAIN               Malaga   \n",
       "5968    1862.07.25  Unprovoked   SPAIN               Malaga   \n",
       "5969    1862.07.14  Unprovoked   SPAIN                Cádiz   \n",
       "5970    1862.07.13  Unprovoked   SPAIN                Cádiz   \n",
       "6080  1836.07.26.R     Invalid   SPAIN              Unknown   \n",
       "6110  1819.07.08.R     Invalid   SPAIN              Unknown   \n",
       "6148    1764.00.00  Unprovoked   SPAIN              Unknown   \n",
       "\n",
       "                                   Location      Activity     Sex       Age  \\\n",
       "82                            Gran Canaria        surfing        M       13   \n",
       "98                          Grao de Moncofa      swimming        F       11   \n",
       "113          Estanys Beach, Colonia de Sant      swimming        F  Unknown   \n",
       "130                        Playa den Bossa      swimming        M       82   \n",
       "234                        Arenales del Sol      swimming        M       40   \n",
       "249                 Las Teresitas, Tenerife        wading        F       10   \n",
       "321    Arinaga Beach, Aguimes, Gran Canaria      swimming        F       38   \n",
       "378                Poniente Beach, Benidorm      swimming        M       10   \n",
       "471                              Off Motril       fishing        M  Unknown   \n",
       "504                                   Salou       playing        M       16   \n",
       "509                                Benidorm      swimming        F  Unknown   \n",
       "529          Teresita, Santa Cruz, Tenerife        wading  Unknown  Unknown   \n",
       "657   Sant Marti dEmpuries Beach, LEscala      swimming        M       48   \n",
       "1011              Sardina del Norte, Gáldar      swimming        M        9   \n",
       "1107                          Sant Salvador      swimming        F       11   \n",
       "1458                       San Juan Beach        swimming        F        7   \n",
       "2476         Playa de las Arenas, Valencia       swimming        M       69   \n",
       "2821                          Lloret-de-Mar        diving        M  Unknown   \n",
       "2822                                Tarifa    windsurfing        M  Unknown   \n",
       "3059        San Juan de la Rambla, Tenerife        diving        M  Unknown   \n",
       "3409            Icod de los Vinos, Tenerife  spearfishing        M  Unknown   \n",
       "3859                            Aigua Blava       unknown        F  Unknown   \n",
       "5038                El Escabonal, Tenerife       swimming        M       38   \n",
       "5065                         Nasareth Beach       fishing        M  Unknown   \n",
       "5149          Casa Antunez Beach, Barcelona       bathing        M  Unknown   \n",
       "5163                               Valencia       fishing        M  Unknown   \n",
       "5187                       Sisargas Islands       fishing  Unknown  Unknown   \n",
       "5308                             Las Palmas        diving        M  Unknown   \n",
       "5379                           Isla Cabrera       unknown        M  Unknown   \n",
       "5386                                  Ceuta       bathing        M  Unknown   \n",
       "5421       Puente Mayorga, San Roque, Cádiz       fishing        M  Unknown   \n",
       "5432                        Cape Finisterre       unknown        M  Unknown   \n",
       "5433                    Tazacorte, La Palma       unknown  Unknown  Unknown   \n",
       "5831                  Castellon de la Plana       fishing  Unknown  Unknown   \n",
       "5943                               Badalona       bathing        M  Unknown   \n",
       "5966                         A Spanish port       bathing        F  Unknown   \n",
       "5967                             Fuengirola       unknown        M  Unknown   \n",
       "5968                       San Andres Beach      swimming        M       18   \n",
       "5969                          Off Algeciras       unknown        M       18   \n",
       "5970                          Off Algeciras      swimming        M  Unknown   \n",
       "6080                                Unknown       unknown  Unknown  Unknown   \n",
       "6110                                  Cadiz       unknown        M  Unknown   \n",
       "6148                     Guadalquivir River      swimming        M  Unknown   \n",
       "\n",
       "     Fatal (Y/N)     Species   \\\n",
       "82             N      unknown   \n",
       "98       Unknown      unknown   \n",
       "113            N      unknown   \n",
       "130            N      unknown   \n",
       "234            N      unknown   \n",
       "249            N      unknown   \n",
       "321            N      unknown   \n",
       "378      Unknown      unknown   \n",
       "471            N      unknown   \n",
       "504            N      unknown   \n",
       "509            N  small shark   \n",
       "529            N      unknown   \n",
       "657      Unknown      unknown   \n",
       "1011           N      unknown   \n",
       "1107     Unknown      unknown   \n",
       "1458     Unknown      unknown   \n",
       "2476           N      unknown   \n",
       "2821           N      unknown   \n",
       "2822           N  white shark   \n",
       "3059           N      unknown   \n",
       "3409           N      unknown   \n",
       "3859           N      unknown   \n",
       "5038           N      unknown   \n",
       "5065           N      unknown   \n",
       "5149     Unknown      unknown   \n",
       "5163           N      unknown   \n",
       "5187           N      unknown   \n",
       "5308           N      unknown   \n",
       "5379           Y  white shark   \n",
       "5386           Y      unknown   \n",
       "5421           N      unknown   \n",
       "5432           Y      unknown   \n",
       "5433     Unknown      unknown   \n",
       "5831           N      unknown   \n",
       "5943           Y      unknown   \n",
       "5966           N      unknown   \n",
       "5967     Unknown      unknown   \n",
       "5968           Y      unknown   \n",
       "5969           Y      unknown   \n",
       "5970           Y      unknown   \n",
       "6080     Unknown      unknown   \n",
       "6110     Unknown      unknown   \n",
       "6148           Y      unknown   \n",
       "\n",
       "                                 Investigator or Source       Date  Year  \n",
       "82                                     Turismo La Aldea 2017-09-16  2017  \n",
       "98                 El Periodico Mediterraneo, 8/27/2017 2017-08-26  2017  \n",
       "113                             Daily Record, 7/24/2017 2017-07-23  2017  \n",
       "130                         Diario de Ibiza, 6/17/'2017 2017-06-17  2017  \n",
       "234                           Informacion.es, 7/29/2016 2016-07-29  2016  \n",
       "249                              La Opinion de Tenerife 2016-07-08  2016  \n",
       "321                          Diaro de Visos, 12/26/2015 2015-12-25  2015  \n",
       "378                                The Local, 8/18/2015 2015-08-18  2015  \n",
       "471                             ABCandalucia, 12/3/2014 2014-12-03  2014  \n",
       "504                 A. Brenneka, Shark Attack Survivors 2014-09-01  2014  \n",
       "509                       Diario Informacion, 8/29/2014 2014-08-27  2014  \n",
       "529                           DiariodeAvisos, 7/25/2014 2014-07-20  2014  \n",
       "657                                    DH.be, 7/11/2013 2013-07-09  2013  \n",
       "1011                               gáldahora, 7/16/2010 2010-07-16  2010  \n",
       "1107                               ABC-Spain, 7/25/2009 2009-07-24  2009  \n",
       "1458                                       C. Johansson 2006-07-13  2006  \n",
       "2476  Orlando Sentinel, 9/5/1993, p. A.22 citing El ... 1993-09-03  1993  \n",
       "2821                                     C. Moore. GSAF 1986-04-01  1986  \n",
       "2822                               A. DeMaddalena. GSAF 1986-03-18  1986  \n",
       "3059                                     C. Moore. GSAF 1980-07-26  1980  \n",
       "3409                                     C. Moore. GSAF 1970-01-01  1970  \n",
       "3859                                     C. Moore, GSAF 1962-01-01  1962  \n",
       "5038                                     C. Moore. GSAF 1930-08-16  1930  \n",
       "5065                                     C. Moore. GSAF 1929-10-02  1929  \n",
       "5149                                     C. Moore, GSAF 1926-07-03  1926  \n",
       "5163                                     C. Moore. GSAF 1925-09-04  1925  \n",
       "5187                                     C. Moore, GSAF 1924-03-24  1924  \n",
       "5308                                     C. Moore. GSAF 1916-07-08  1916  \n",
       "5379                                     C. Moore. GSAF 1912-01-01  1912  \n",
       "5386                                     C. Moore. GSAF 1911-07-31  1911  \n",
       "5421                                     C. Moore, GSAF 1909-04-27  1909  \n",
       "5432                     Poverty Bay Herald, 10/14/1908 1908-08-28  1908  \n",
       "5433                                     C. Moore, GSAF 1908-07-18  1908  \n",
       "5831                                     C. Moore, GSAF 1879-09-22  1879  \n",
       "5943                                     C. Moore, GSAF 1864-07-25  1864  \n",
       "5966                                     C. Moore. GSAF 1862-08-15  1862  \n",
       "5967                                     C. Moore. GSAF 1862-08-02  1862  \n",
       "5968                                     C. Moore. GSAF 1862-07-25  1862  \n",
       "5969                                     C. Moore. GSAF 1862-07-14  1862  \n",
       "5970                              C. Moore; W.H. Bedlam 1862-07-13  1862  \n",
       "6080                                     C. Moore, GSAF 1836-07-26  1836  \n",
       "6110                                     C. Moore, GSAF 1819-07-08  1819  \n",
       "6148                                     C. Moore, GSAF 1764-01-01  1764  "
      ]
     },
     "execution_count": 35,
     "metadata": {},
     "output_type": "execute_result"
    }
   ],
   "source": [
    "df_spain = df[df['Country']=='SPAIN']\n",
    "df_spain"
   ]
  },
  {
   "cell_type": "code",
   "execution_count": 36,
   "metadata": {},
   "outputs": [
    {
     "data": {
      "text/plain": [
       "<AxesSubplot:ylabel='Fatal (Y/N)'>"
      ]
     },
     "execution_count": 36,
     "metadata": {},
     "output_type": "execute_result"
    },
    {
     "data": {
      "image/png": "[encoded data removed]",
      "text/plain": [
       "<Figure size 360x360 with 1 Axes>"
      ]
     },
     "metadata": {},
     "output_type": "display_data"
    }
   ],
   "source": [
    "df_spain[df_spain['Fatal (Y/N)']!='Unknown']['Fatal (Y/N)'].value_counts().plot.pie(figsize=(5, 5))"
   ]
  },
  {
   "cell_type": "code",
   "execution_count": 37,
   "metadata": {},
   "outputs": [
    {
     "data": {
      "text/plain": [
       "0.18604651162790697"
      ]
     },
     "execution_count": 37,
     "metadata": {},
     "output_type": "execute_result"
    }
   ],
   "source": [
    "mortal_attacks = len(df_spain[df_spain['Fatal (Y/N)']=='Y'])\n",
    "total_attacks = len(df_spain['Fatal (Y/N)'])\n",
    "mortal_rate = mortal_attacks/total_attacks\n",
    "mortal_rate"
   ]
  },
  {
   "cell_type": "code",
   "execution_count": 38,
   "metadata": {},
   "outputs": [
    {
     "data": {
      "text/plain": [
       "<AxesSubplot:>"
      ]
     },
     "execution_count": 38,
     "metadata": {},
     "output_type": "execute_result"
    },
    {
     "data": {
      "image/png": "[encoded data removed]",
      "text/plain": [
       "<Figure size 432x288 with 1 Axes>"
      ]
     },
     "metadata": {
      "needs_background": "light"
     },
     "output_type": "display_data"
    }
   ],
   "source": [
    "df_spain[df_spain['Fatal (Y/N)']=='Y']['Area'].value_counts().plot(kind='barh')"
   ]
  },
  {
   "cell_type": "markdown",
   "metadata": {},
   "source": [
    "## Conclusions"
   ]
  },
  {
   "cell_type": "markdown",
   "metadata": {},
   "source": [
    "* The country with the most attacks is USA by far\n",
    "* In last decades, the number of attacks has grown (specially during 2000s)\n",
    "* The white shark is the most dangerous shark by far\n",
    "* Surfing and swimming are the two most dangerous activities\n",
    "* Less than 20% of the total attacks in Spain are mortal (including the unknown ones)... And this mortal attacks have happened all around the country"
   ]
  },
  {
   "cell_type": "code",
   "execution_count": null,
   "metadata": {},
   "outputs": [],
   "source": []
  }
 ],
 "metadata": {
  "kernelspec": {
   "display_name": "Python 3",
   "language": "python",
   "name": "python3"
  },
  "language_info": {
   "codemirror_mode": {
    "name": "ipython",
    "version": 3
   },
   "file_extension": ".py",
   "mimetype": "text/x-python",
   "name": "python",
   "nbconvert_exporter": "python",
   "pygments_lexer": "ipython3",
   "version": "3.8.5"
  },
  "toc": {
   "base_numbering": 1,
   "nav_menu": {},
   "number_sections": true,
   "sideBar": true,
   "skip_h1_title": false,
   "title_cell": "Table of Contents",
   "title_sidebar": "Contents",
   "toc_cell": false,
   "toc_position": {
    "height": "723px",
    "left": "35px",
    "top": "182px",
    "width": "384px"
   },
   "toc_section_display": true,
   "toc_window_display": true
  },
  "varInspector": {
   "cols": {
    "lenName": 16,
    "lenType": 16,
    "lenVar": 40
   },
   "kernels_config": {
    "python": {
     "delete_cmd_postfix": "",
     "delete_cmd_prefix": "del ",
     "library": "var_list.py",
     "varRefreshCmd": "print(var_dic_list())"
    },
    "r": {
     "delete_cmd_postfix": ") ",
     "delete_cmd_prefix": "rm(",
     "library": "var_list.r",
     "varRefreshCmd": "cat(var_dic_list()) "
    }
   },
   "types_to_exclude": [
    "module",
    "function",
    "builtin_function_or_method",
    "instance",
    "_Feature"
   ],
   "window_display": false
  }
 },
 "nbformat": 4,
 "nbformat_minor": 4
}
